{
 "cells": [
  {
   "cell_type": "markdown",
   "metadata": {},
   "source": [
    "# Лабораторная работа №4"
   ]
  },
  {
   "cell_type": "markdown",
   "metadata": {},
   "source": [
    "## Номер VI.9.32"
   ]
  },
  {
   "cell_type": "markdown",
   "metadata": {},
   "source": [
    "### Импорт библиотек"
   ]
  },
  {
   "cell_type": "code",
   "execution_count": 102,
   "metadata": {},
   "outputs": [],
   "source": [
    "import numpy as np\n",
    "import matplotlib.pyplot as plt\n",
    "import bisect"
   ]
  },
  {
   "cell_type": "markdown",
   "metadata": {},
   "source": [
    "### Заполнение таблицы значений"
   ]
  },
  {
   "cell_type": "code",
   "execution_count": 103,
   "metadata": {},
   "outputs": [],
   "source": [
    "years = np.array([1910, 1920, 1930, 1940, 1950, 1960, 1970, 1980, 1990, 2000])\n",
    "values = np.array([92228496, 106021537, 123202624, 132164569, 151325798, 179323175, 203211926, 226545805, 248709873, 281421906])"
   ]
  },
  {
   "cell_type": "markdown",
   "metadata": {},
   "source": [
    "## Метод Ньютона"
   ]
  },
  {
   "cell_type": "markdown",
   "metadata": {},
   "source": [
    "### Описание функции для расчёта разделённой разности"
   ]
  },
  {
   "cell_type": "code",
   "execution_count": 104,
   "metadata": {},
   "outputs": [],
   "source": [
    "def sep_diff(years, values):\n",
    "\tsize = np.shape(years)[0]\n",
    "\tdiffs = np.zeros([size, size])\n",
    "\tfor i in range(0, size):\n",
    "\t\tdiffs[i, 0] = values[i]\n",
    "\tfor j in range(1, size):\n",
    "\t\tfor i in range(j,size):\n",
    "\t\t\tdiffs[i, j] = (diffs[i, j-1] - diffs[i-1,j-1])/(years[i]-years[i-j])\n",
    "\tcol = np.zeros([size])\n",
    "\tfor i in range(0, size):\n",
    "\t\tcol[i] = diffs[i, i]\n",
    "\treturn col"
   ]
  },
  {
   "cell_type": "markdown",
   "metadata": {},
   "source": [
    "### Вычисление полинома Ньютона"
   ]
  },
  {
   "cell_type": "code",
   "execution_count": 105,
   "metadata": {},
   "outputs": [],
   "source": [
    "def interp_Newton(years, values, point):\n",
    "\tcol_diff = sep_diff(years, values)\n",
    "\tsize = np.shape(col_diff)[0]\n",
    "\tval = col_diff[0]\n",
    "\tscope = 1\n",
    "\tfor i in range(size-1):\n",
    "\t\tscope = (point - years[i])*scope\n",
    "\t\tval = val + col_diff[i+1]*scope\n",
    "\treturn val"
   ]
  },
  {
   "cell_type": "markdown",
   "metadata": {},
   "source": [
    "### Построение графика полинома Ньютона"
   ]
  },
  {
   "cell_type": "code",
   "execution_count": 106,
   "metadata": {},
   "outputs": [],
   "source": [
    "x = np.arange(years[0], 2010+1, 1)\n",
    "y = interp_Newton(years, values, x)\n",
    "\n",
    "plt.figure(figsize=(12,8))\n",
    "plt.plot(x, y)\n",
    "plt.plot(np.append(years, 2010), np.append(values, interp_Newton(years, values, 2010)), 'bo')\n",
    "plt.show()"
   ]
  },
  {
   "cell_type": "markdown",
   "metadata": {},
   "source": [
    "### Определение значения численности населения в 2010-ом году"
   ]
  },
  {
   "cell_type": "code",
   "execution_count": 107,
   "metadata": {},
   "outputs": [
    {
     "name": "stdout",
     "output_type": "stream",
     "text": [
      "Экстраполированное значение численности населения  827906509\n",
      "Погрешность данной величины равна:  168 %\n"
     ]
    }
   ],
   "source": [
    "val_2010 = interp_Newton(years, values, 2010)\n",
    "print(\"Экстраполированное значение численности населения \", int(val_2010))\n",
    "val_2010_real = 308745538\n",
    "print(\"Погрешность данной величины равна: \", int(100*(val_2010-val_2010_real)/val_2010_real), \"%\")"
   ]
  },
  {
   "cell_type": "markdown",
   "metadata": {},
   "source": [
    "## Сплайн-аппроксимация"
   ]
  },
  {
   "cell_type": "markdown",
   "metadata": {},
   "source": [
    "### Создание трёхдиагональной матрицы"
   ]
  },
  {
   "cell_type": "code",
   "execution_count": 108,
   "metadata": {},
   "outputs": [],
   "source": [
    "def compute_diffs(x):\n",
    "    return np.array([x[i+1] - x[i] for i in range(len(x) - 1)])\n",
    "\n",
    "def create_tridiagonalmatrix(n, h):\n",
    "    A = np.array([h[i] / (h[i] + h[i + 1]) for i in range(n - 2)] + [0])\n",
    "    B = np.array([2] * n)\n",
    "    C = np.array([0] + [h[i + 1] / (h[i] + h[i + 1]) for i in range(n - 2)])\n",
    "    return A, B, C\n",
    "\n",
    "def create_target(n, h, y):\n",
    "    return np.array([0] + [6 * ((y[i + 1] - y[i]) / h[i] - (y[i] - y[i - 1]) / h[i - 1]) / (h[i] + h[i-1]) for i in range(1, n - 1)] + [0])"
   ]
  },
  {
   "cell_type": "markdown",
   "metadata": {},
   "source": [
    "### Решение трёхдиагональной системы"
   ]
  },
  {
   "cell_type": "code",
   "execution_count": 109,
   "metadata": {},
   "outputs": [],
   "source": [
    "def solve_tridiagonalsystem(A, B, C, D):\n",
    "    c_p = np.append(C, 0)\n",
    "    d_p = np.zeros(np.shape(B)[0])\n",
    "    X = np.zeros(np.shape(B)[0])\n",
    "\n",
    "    c_p[0] = C[0] / B[0]\n",
    "    d_p[0] = D[0] / B[0]\n",
    "    for i in range(1, np.shape(B)[0]):\n",
    "        c_p[i] = c_p[i] / (B[i] - c_p[i - 1] * A[i - 1])\n",
    "        d_p[i] = (D[i] - d_p[i - 1] * A[i - 1]) / (B[i] - c_p[i - 1] * A[i - 1])\n",
    "\n",
    "    X[-1] = d_p[-1]\n",
    "    for i in range(np.shape(B)[0] - 2, -1, -1):\n",
    "        X[i] = d_p[i] - c_p[i] * X[i + 1]\n",
    "\n",
    "    return X"
   ]
  },
  {
   "cell_type": "markdown",
   "metadata": {},
   "source": [
    "### Вычисление сплайна"
   ]
  },
  {
   "cell_type": "code",
   "execution_count": 110,
   "metadata": {},
   "outputs": [],
   "source": [
    "def compute_spline(x, y):\n",
    "    n = len(x)\n",
    "    h = compute_diffs(x)\n",
    "    A, B, C = create_tridiagonalmatrix(n, h)\n",
    "    D = create_target(n, h, y)\n",
    "\n",
    "    M = solve_tridiagonalsystem(A, B, C, D)\n",
    "\n",
    "    coefficients = np.array([[(M[i+1]-M[i])*h[i]*h[i]/6, M[i]*h[i]*h[i]/2, (y[i+1] - y[i] - (M[i+1]+2*M[i])*h[i]*h[i]/6), y[i]] for i in range(n-1)])\n",
    "\n",
    "    def spline(val):\n",
    "        idx = min(bisect.bisect(x, val)-1, n-2)\n",
    "        z = (val - x[idx]) / h[idx]\n",
    "        C = coefficients[idx]\n",
    "        return (((C[0] * z) + C[1]) * z + C[2]) * z + C[3]\n",
    "\n",
    "    return spline"
   ]
  },
  {
   "cell_type": "markdown",
   "metadata": {},
   "source": [
    "### Построение сплайна"
   ]
  },
  {
   "cell_type": "code",
   "execution_count": 111,
   "metadata": {},
   "outputs": [],
   "source": [
    "spline = compute_spline(years, values)\n",
    "\n",
    "x_vals = np.arange(years[0], 2010 + 1, 1)\n",
    "y_vals = [spline(y) for y in x_vals]\n",
    "\n",
    "plt.plot(x_vals, y_vals)\n",
    "plt.plot(np.append(years, 2010), np.append(values, spline(2010)), 'bo')\n",
    "plt.xticks(np.append(years,2010))\n",
    "plt.show()"
   ]
  },
  {
   "cell_type": "markdown",
   "metadata": {},
   "source": [
    "### Определение значения численности населения в 2010-ом году"
   ]
  },
  {
   "cell_type": "code",
   "execution_count": 112,
   "metadata": {},
   "outputs": [
    {
     "name": "stdout",
     "output_type": "stream",
     "text": [
      "Экстраполированное значение численности населения  314133939\n",
      "Погрешность данной величины равна:  1.745256315250781 %\n"
     ]
    }
   ],
   "source": [
    "val_2010_sp = spline(2010)\n",
    "print(\"Экстраполированное значение численности населения \", int(val_2010_sp))\n",
    "val_2010_real = 308745538\n",
    "print(\"Погрешность данной величины равна: \", 100*(val_2010_sp-val_2010_real)/val_2010_real, \"%\")"
   ]
  }
 ],
 "metadata": {
  "kernelspec": {
   "display_name": "Python 3.8.10 64-bit",
   "language": "python",
   "name": "python3"
  },
  "language_info": {
   "codemirror_mode": {
    "name": "ipython",
    "version": 3
   },
   "file_extension": ".py",
   "mimetype": "text/x-python",
   "name": "python",
   "nbconvert_exporter": "python",
   "pygments_lexer": "ipython3",
   "version": "3.8.10"
  },
  "orig_nbformat": 4,
  "vscode": {
   "interpreter": {
    "hash": "916dbcbb3f70747c44a77c7bcd40155683ae19c65e1c03b4aa3499c5328201f1"
   }
  }
 },
 "nbformat": 4,
 "nbformat_minor": 2
}
